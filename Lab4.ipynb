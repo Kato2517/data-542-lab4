{
 "cells": [
  {
   "cell_type": "markdown",
   "metadata": {
    "id": "dgX9J4MQkdNw"
   },
   "source": [
    "# Lab 4\n",
    "\n",
    "In this lab, you will experience text processing and how to deal with text files.\n",
    "\n",
    "Use the link below to download the dataset you are working on.\n",
    "\n",
    "https://ubcca-my.sharepoint.com/:u:/g/personal/fatemeh_fard_ubc_ca/Ea0codoUmEVGon4ZiXqdHowBuLESdO824rcEj9uAH30FYg?e=q0NfCU\n",
    "\n",
    "The dataset includes hundreds of csv files. Each one name is a name of a mobile app. In each file, you will see multiple columns, including ``content`` which is the review written by the users, ``score`` which is the score given to the app, ``thumbsUp``, ``reviewCreatedVersion`` defining on which version of the app the review is for, ``at`` which is the time and date of the review, ``replyContent`` which holds the answers from the app developers to the review, and ``repliedAt`` which is the time and date the reply is written.\n",
    "\n",
    "For this dataset, answer the following.\n",
    "\n",
    "1) How many files are there in the folder (in other words, how many apps)?\n",
    "\n",
    "2) How many app reviews do we have in total?\n",
    "\n",
    "3) What is the range of the app reviews, meaning the earliest review and the latest one? Include both date and time.\n",
    "\n",
    "4) How many reviews are written in each month of 2021?\n",
    "\n",
    "5) What is the frequency of the reviews written in each hour in the month of January 2021? Visualize this in a bar chart.\n",
    "\n",
    "6) What is the average score for all apps?\n",
    "\n",
    "7) What is the frequency of the scores for all apps? Visualize it with a bar chart.\n",
    "\n",
    "8) What is the frequency of the thumbsUp for each reply? Visualize it.\n",
    "\n",
    "Consider the column `content` to answer the following questions.\n",
    "\n",
    "9) Pre-process the text by removing the following characters from the review texts: ``. , \" : ; ' ) ( * ``\n",
    "\n",
    "10) Pre-process the text by removing multiple occurrences of question marks and exclamation marks. For example, convert ``The app is super easy to work with!!!!!`` to ``The app is super easy to work with!``.\n",
    "\n",
    "11) OPTIONAL: apply sentiment analysis on the reviews to analyze whether the positive reviews are the ones that recieve high scores and negative reviews are the ones that receive low scores. Is there any correlation between the setiment of the reviews and the `score` given by the user?\n",
    "\n",
    "Hint: you can write the function to clean one review and then apply it on the specified column using ``apply`` function.\n",
    "\n",
    "\n",
    "**Dataset licensing:**\n",
    "\n",
    "You are not allowed to share this dataset publicly or use it for any other purpose other than this lab. This is a dataset collected by the students in my lab for their graduate thesis."
   ]
  },
  {
   "cell_type": "code",
   "execution_count": 1,
   "metadata": {
    "id": "6qgWw9wAkj3i"
   },
   "outputs": [],
   "source": [
    "import os\n",
    "import pandas as pd\n",
    "import numpy as np\n",
    "import re\n",
    "import glob\n",
    "\n",
    "from datetime import datetime\n",
    "import matplotlib.pyplot as plt"
   ]
  },
  {
   "cell_type": "code",
   "execution_count": 8,
   "metadata": {},
   "outputs": [],
   "source": [
    "#q1\n",
    "path='C:/Users/hexua/Downloads/2.8M App Reviews - 3686 Top Paid Apps - 998.8MB on Disk'"
   ]
  },
  {
   "cell_type": "code",
   "execution_count": 9,
   "metadata": {},
   "outputs": [
    {
     "ename": "TypeError",
     "evalue": "'module' object is not callable",
     "output_type": "error",
     "traceback": [
      "\u001b[1;31m---------------------------------------------------------------------------\u001b[0m",
      "\u001b[1;31mTypeError\u001b[0m                                 Traceback (most recent call last)",
      "Cell \u001b[1;32mIn[9], line 1\u001b[0m\n\u001b[1;32m----> 1\u001b[0m file_paths \u001b[38;5;241m=\u001b[39m glob(os\u001b[38;5;241m.\u001b[39mpath\u001b[38;5;241m.\u001b[39mjoin(path, \u001b[38;5;124m'\u001b[39m\u001b[38;5;124m*.csv\u001b[39m\u001b[38;5;124m'\u001b[39m))\n\u001b[0;32m      2\u001b[0m num_files \u001b[38;5;241m=\u001b[39m \u001b[38;5;28mlen\u001b[39m(file_paths)\n\u001b[0;32m      3\u001b[0m num_files\n",
      "\u001b[1;31mTypeError\u001b[0m: 'module' object is not callable"
     ]
    }
   ],
   "source": [
    "file_paths = glob(os.path.join(path, '*.csv'))\n",
    "num_files = len(file_paths)\n",
    "num_files"
   ]
  },
  {
   "cell_type": "code",
   "execution_count": null,
   "metadata": {},
   "outputs": [],
   "source": []
  }
 ],
 "metadata": {
  "colab": {
   "provenance": []
  },
  "kernelspec": {
   "display_name": "Python 3 (ipykernel)",
   "language": "python",
   "name": "python3"
  },
  "language_info": {
   "codemirror_mode": {
    "name": "ipython",
    "version": 3
   },
   "file_extension": ".py",
   "mimetype": "text/x-python",
   "name": "python",
   "nbconvert_exporter": "python",
   "pygments_lexer": "ipython3",
   "version": "3.11.4"
  },
  "vscode": {
   "interpreter": {
    "hash": "77e439808f4d7a9589c387863d6524822428235edb4ad8dafc1802a094e17dc4"
   }
  }
 },
 "nbformat": 4,
 "nbformat_minor": 1
}
